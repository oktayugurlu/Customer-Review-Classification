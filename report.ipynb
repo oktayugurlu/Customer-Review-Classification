{
 "cells": [
  {
   "cell_type": "markdown",
   "metadata": {},
   "source": [
    "# &emsp;&emsp;&emsp;&emsp;&emsp;&emsp;HACETTEPE UNIVERSITY COMPUTER ENGINEERING\n",
    "## &emsp;&emsp;&emsp;&emsp;&emsp;&emsp;&emsp;&emsp;&emsp;&emsp;&emsp;&emsp;  &emsp;&emsp;BBM 409 Machine Learning Lab\n",
    "## &emsp;&emsp;&emsp;&emsp;&emsp;&emsp;&emsp;&emsp;&emsp;&emsp;&emsp;&emsp;  &emsp;&emsp;&emsp;&emsp;  &emsp;&emsp;Assignmet II\n",
    "\n",
    "### &emsp;Name/Surname: Oktay UĞURLU\n",
    "### &emsp;School Number: 21627725\n",
    "### &emsp;E-mail: b21627725@cs.hacettepe.edu.tr"
   ]
  },
  {
   "cell_type": "markdown",
   "metadata": {},
   "source": [
    "# Part I:  Sentiment Analysis with Naive Bayes"
   ]
  },
  {
   "cell_type": "markdown",
   "metadata": {},
   "source": [
    "In this assignment, the aim is implementing the Naive Bayes Classifier and using it sentiment analysis of the review data. After the implementing part, we try to analyze the results and usage of laplace smoothing, TF-IDF Vectorizing and stop word elimination while train the model and make prediction. "
   ]
  },
  {
   "cell_type": "code",
   "execution_count": null,
   "metadata": {},
   "outputs": [],
   "source": [
    "import pandas as pd\n",
    "from math import log\n",
    "import numpy as np\n",
    "import matplotlib.pyplot as plt\n",
    "import operator\n",
    "from sklearn.metrics import classification_report, confusion_matrix\n",
    "from sklearn.feature_extraction.text import CountVectorizer\n",
    "from sklearn.feature_extraction.text import TfidfVectorizer\n",
    "import warnings\n",
    "warnings.filterwarnings('ignore')\n",
    "\n",
    "%matplotlib inline\n",
    "import matplotlib.pyplot as plt                              #For visualization\n",
    "import seaborn as sns; sns.set()\n",
    "\n",
    "from itertools import chain\n",
    "\n",
    "from sklearn.feature_extraction.text import ENGLISH_STOP_WORDS\n",
    "\n",
    " "
   ]
  },
  {
   "cell_type": "markdown",
   "metadata": {},
   "source": [
    "# Understanding the Data"
   ]
  },
  {
   "cell_type": "markdown",
   "metadata": {},
   "source": [
    "I have read and transformed the comment and its class to a dataframe. The **class** column corresponds to positive and negative of the comment, the **tokens** column corresponds to comment. I didn't use the other columns but you can see in the dataframe. As you can see below, I have normalized the class names as integer value also: "
   ]
  },
  {
   "cell_type": "code",
   "execution_count": 2,
   "metadata": {},
   "outputs": [],
   "source": [
    "##### Data reading and dataframe convertion #######\n",
    "data = pd.read_csv(\"all_sentiment_shuffled.txt\", delimiter=\"\\n\", header=None)\n",
    "data[\"id\"] = data.iloc[:,0].str.split(\" \").map(lambda x: x[2])\n",
    "data[\"category\"] = data.iloc[:,0].str.split(\" \").map(lambda x: x[0])\n",
    "data[\"tokens\"] = data.iloc[:,0].str.split(\" \").map(lambda x: \" \".join(x[3:]))\n",
    "data[\"CLASS\"] = data.iloc[:,0].str.split(\" \").map(lambda x: x[1])\n",
    "del data[0]\n",
    "\n",
    "##### Normalization of CLASS column #######\n",
    "class_id_dict = {}\n",
    "id = 0\n",
    "for class_name in data[\"CLASS\"].unique():\n",
    "    class_id_dict[class_name] = id\n",
    "    id +=1\n",
    "\n",
    "data[\"CLASS\"] = data[\"CLASS\"].map(lambda x: class_id_dict[x]) # The negative is 0 and the positive is 1"
   ]
  },
  {
   "cell_type": "code",
   "execution_count": 3,
   "metadata": {},
   "outputs": [
    {
     "data": {
      "text/html": [
       "<div>\n",
       "<style scoped>\n",
       "    .dataframe tbody tr th:only-of-type {\n",
       "        vertical-align: middle;\n",
       "    }\n",
       "\n",
       "    .dataframe tbody tr th {\n",
       "        vertical-align: top;\n",
       "    }\n",
       "\n",
       "    .dataframe thead th {\n",
       "        text-align: right;\n",
       "    }\n",
       "</style>\n",
       "<table border=\"1\" class=\"dataframe\">\n",
       "  <thead>\n",
       "    <tr style=\"text-align: right;\">\n",
       "      <th></th>\n",
       "      <th>id</th>\n",
       "      <th>category</th>\n",
       "      <th>tokens</th>\n",
       "      <th>CLASS</th>\n",
       "    </tr>\n",
       "  </thead>\n",
       "  <tbody>\n",
       "    <tr>\n",
       "      <th>0</th>\n",
       "      <td>241.txt</td>\n",
       "      <td>music</td>\n",
       "      <td>i bought this album because i loved the title ...</td>\n",
       "      <td>0</td>\n",
       "    </tr>\n",
       "    <tr>\n",
       "      <th>1</th>\n",
       "      <td>544.txt</td>\n",
       "      <td>music</td>\n",
       "      <td>i was misled and thought i was buying the enti...</td>\n",
       "      <td>0</td>\n",
       "    </tr>\n",
       "    <tr>\n",
       "      <th>2</th>\n",
       "      <td>729.txt</td>\n",
       "      <td>books</td>\n",
       "      <td>i have introduced many of my ell , high school...</td>\n",
       "      <td>0</td>\n",
       "    </tr>\n",
       "    <tr>\n",
       "      <th>3</th>\n",
       "      <td>278.txt</td>\n",
       "      <td>books</td>\n",
       "      <td>anything you purchase in the left behind serie...</td>\n",
       "      <td>1</td>\n",
       "    </tr>\n",
       "    <tr>\n",
       "      <th>4</th>\n",
       "      <td>840.txt</td>\n",
       "      <td>dvd</td>\n",
       "      <td>i loved these movies , and i cant wiat for the...</td>\n",
       "      <td>1</td>\n",
       "    </tr>\n",
       "  </tbody>\n",
       "</table>\n",
       "</div>"
      ],
      "text/plain": [
       "        id category                                             tokens  CLASS\n",
       "0  241.txt    music  i bought this album because i loved the title ...      0\n",
       "1  544.txt    music  i was misled and thought i was buying the enti...      0\n",
       "2  729.txt    books  i have introduced many of my ell , high school...      0\n",
       "3  278.txt    books  anything you purchase in the left behind serie...      1\n",
       "4  840.txt      dvd  i loved these movies , and i cant wiat for the...      1"
      ]
     },
     "execution_count": 3,
     "metadata": {},
     "output_type": "execute_result"
    }
   ],
   "source": [
    "data.head()"
   ]
  },
  {
   "cell_type": "markdown",
   "metadata": {},
   "source": [
    "When I calculated most frequently appearing words without **stop words**, we can observed that the **\"great\"** is most occurred in positive reviews, and the **\"just\"** is most occurred in negative reviews. These words can helps us in predictions:"
   ]
  },
  {
   "cell_type": "code",
   "execution_count": 4,
   "metadata": {},
   "outputs": [],
   "source": [
    "###### APPLYIG COUNT VECTORIZING TO THE DATA ######\n",
    "vectorizer = CountVectorizer(ngram_range=(1, 1), stop_words=ENGLISH_STOP_WORDS)\n",
    "vector = vectorizer.fit_transform(data[\"tokens\"])\n",
    "vector_df = pd.DataFrame(vector.toarray())\n",
    "words_list = list(vectorizer.vocabulary_.keys())\n",
    "words_list.sort()\n",
    "vector_df[\"CLASS\"] = data[\"CLASS\"]\n",
    "words_list.append(\"CLASS\")\n",
    "vector_df.columns = words_list"
   ]
  },
  {
   "cell_type": "code",
   "execution_count": 5,
   "metadata": {},
   "outputs": [],
   "source": [
    "##### GET NUMBER OF WORDS FOR POSITIVE AND NEGATIVE ######\n",
    "\n",
    "statistic_df = pd.DataFrame(index=[\"sum class negative\", \"sum class positive\"], columns=vector_df.columns.values)\n",
    "statistic_df.loc[\"sum class negative\"] = vector_df[vector_df[\"CLASS\"]==0].sum(axis=0)\n",
    "statistic_df.loc[\"sum class positive\"] = vector_df[vector_df[\"CLASS\"]==1].sum(axis=0)\n",
    "del statistic_df[\"CLASS\"]"
   ]
  },
  {
   "cell_type": "code",
   "execution_count": 6,
   "metadata": {},
   "outputs": [
    {
     "name": "stdout",
     "output_type": "stream",
     "text": [
      "Maximum 1st occured word in negative with stop words and its frequency: like - 0.007908\n",
      "Maximum 1st occured word in negative with stop words its frequency: just - 0.007376\n",
      "Maximum 1st occured word in negative with stop words its frequency: book - 0.006796\n"
     ]
    },
    {
     "data": {
      "text/plain": [
       "(-1.1159867662416878,\n",
       " 1.1007612745829376,\n",
       " -1.1135801797643903,\n",
       " 1.116566802355254)"
      ]
     },
     "execution_count": 6,
     "metadata": {},
     "output_type": "execute_result"
    },
    {
     "data": {
      "image/png": "[encoded data removed]",
      "text/plain": [
       "<Figure size 432x288 with 1 Axes>"
      ]
     },
     "metadata": {},
     "output_type": "display_data"
    }
   ],
   "source": [
    "##### PRINT MOST 3 APPEARING WORDS IN NEGATIVE ######\n",
    "\n",
    "statistic_df = statistic_df.iloc[:, np.argsort(statistic_df.loc[\"sum class negative\"])]\n",
    "sum_of_negative_words = statistic_df.loc[\"sum class negative\"].sum(axis=0)\n",
    "\n",
    "print('Maximum 1st occured word in negative with stop words and its frequency: %s - %f' % (statistic_df.iloc[:,-1].name, statistic_df.iloc[:,-1][\"sum class negative\"]/sum_of_negative_words ))\n",
    "print('Maximum 1st occured word in negative with stop words its frequency: %s - %f' % (statistic_df.iloc[:,-2].name, statistic_df.iloc[:,-2][\"sum class negative\"]/sum_of_negative_words ))\n",
    "print('Maximum 1st occured word in negative with stop words its frequency: %s - %f' % (statistic_df.iloc[:,-3].name, statistic_df.iloc[:,-3][\"sum class negative\"]/sum_of_negative_words ))\n",
    "\n",
    "plt.figure(0)\n",
    "plt.title('Most 3 appearing words except stop words in negative comments')\n",
    "plt.pie([statistic_df.iloc[:,-1][\"sum class negative\"], statistic_df.iloc[:,-2][\"sum class negative\"], statistic_df.iloc[:,-3][\"sum class negative\"]],\n",
    "        labels=[statistic_df.iloc[:,-1].name, statistic_df.iloc[:,-2].name, statistic_df.iloc[:,-3].name], autopct='%1.1f%%', shadow=True)\n",
    "plt.axis('equal')"
   ]
  },
  {
   "cell_type": "code",
   "execution_count": 7,
   "metadata": {},
   "outputs": [
    {
     "name": "stdout",
     "output_type": "stream",
     "text": [
      "Maximum 1st occured word in positive with stop words and its frequency: great - 0.007015\n",
      "Maximum 1st occured word in positive with stop words its frequency: like - 0.006543\n",
      "Maximum 1st occured word in positive with stop words its frequency: book - 0.005906\n"
     ]
    },
    {
     "data": {
      "text/plain": [
       "(-1.116318270713804, 1.1007770605101812, -1.113934158817448, 1.117467618007037)"
      ]
     },
     "execution_count": 7,
     "metadata": {},
     "output_type": "execute_result"
    },
    {
     "data": {
      "image/png": "[encoded data removed]",
      "text/plain": [
       "<Figure size 432x288 with 1 Axes>"
      ]
     },
     "metadata": {},
     "output_type": "display_data"
    }
   ],
   "source": [
    "##### PRINT MOST 3 APPEARING WORDS IN POSITIVE ######\n",
    "\n",
    "statistic_df = statistic_df.iloc[:, np.argsort(statistic_df.loc[\"sum class positive\"])]\n",
    "sum_of_positive_words = statistic_df.loc[\"sum class positive\"].sum(axis=0)\n",
    "\n",
    "print('Maximum 1st occured word in positive with stop words and its frequency: %s - %f' % (statistic_df.iloc[:,-1].name, statistic_df.iloc[:,-1][\"sum class positive\"]/sum_of_positive_words ))\n",
    "print('Maximum 1st occured word in positive with stop words its frequency: %s - %f' % (statistic_df.iloc[:,-2].name, statistic_df.iloc[:,-2][\"sum class positive\"]/sum_of_positive_words ))\n",
    "print('Maximum 1st occured word in positive with stop words its frequency: %s - %f' % (statistic_df.iloc[:,-3].name, statistic_df.iloc[:,-3][\"sum class positive\"]/sum_of_positive_words ))\n",
    "\n",
    "plt.figure(0)\n",
    "plt.title('Most 3 appearing words except stop words in positive comments')\n",
    "plt.pie([statistic_df.iloc[:,-1][\"sum class positive\"], statistic_df.iloc[:,-2][\"sum class positive\"], statistic_df.iloc[:,-3][\"sum class positive\"]],\n",
    "        labels=[statistic_df.iloc[:,-1].name, statistic_df.iloc[:,-2].name, statistic_df.iloc[:,-3].name], autopct='%1.1f%%', shadow=True)\n",
    "plt.axis('equal')"
   ]
  },
  {
   "cell_type": "markdown",
   "metadata": {},
   "source": [
    "If we analyze this with stop words, **the**, **to**, **and** words are most used in both positive and negative reviews:"
   ]
  },
  {
   "cell_type": "code",
   "execution_count": 8,
   "metadata": {},
   "outputs": [
    {
     "name": "stdout",
     "output_type": "stream",
     "text": [
      "Maximum 1st occured word in negative with stop words and its frequency: the - 0.054365\n",
      "Maximum 1st occured word in negative with stop words its frequency: to - 0.028095\n",
      "Maximum 1st occured word in negative with stop words its frequency: and - 0.027043\n"
     ]
    },
    {
     "data": {
      "text/plain": [
       "(-1.1028785782852517,\n",
       " 1.1001371008365624,\n",
       " -1.1026533479708465,\n",
       " 1.103117459751434)"
      ]
     },
     "execution_count": 8,
     "metadata": {},
     "output_type": "execute_result"
    },
    {
     "data": {
      "image/png": "[encoded data removed]",
      "text/plain": [
       "<Figure size 432x288 with 1 Axes>"
      ]
     },
     "metadata": {},
     "output_type": "display_data"
    }
   ],
   "source": [
    "###### APPLYIG COUNT VECTORIZING TO THE DATA ######\n",
    "vectorizer = CountVectorizer(ngram_range=(1, 1))\n",
    "vector = vectorizer.fit_transform(data[\"tokens\"])\n",
    "vector_df = pd.DataFrame(vector.toarray())\n",
    "words_list = list(vectorizer.vocabulary_.keys())\n",
    "words_list.sort()\n",
    "vector_df[\"CLASS\"] = data[\"CLASS\"]\n",
    "words_list.append(\"CLASS\")\n",
    "vector_df.columns = words_list\n",
    "\n",
    "##### GET NUMBER OF WORDS FOR POSITIVE AND NEGATIVE ######\n",
    "\n",
    "statistic_df = pd.DataFrame(index=[\"sum class negative\", \"sum class positive\"], columns=vector_df.columns.values)\n",
    "statistic_df.loc[\"sum class negative\"] = vector_df[vector_df[\"CLASS\"]==0].sum(axis=0)\n",
    "statistic_df.loc[\"sum class positive\"] = vector_df[vector_df[\"CLASS\"]==1].sum(axis=0)\n",
    "del statistic_df[\"CLASS\"]\n",
    "\n",
    "##### PRINT MOST 3 APPEARING WORDS IN NEGATIVE ######\n",
    "\n",
    "statistic_df = statistic_df.iloc[:, np.argsort(statistic_df.loc[\"sum class negative\"])]\n",
    "sum_of_negative_words = statistic_df.loc[\"sum class negative\"].sum(axis=0)\n",
    "\n",
    "print('Maximum 1st occured word in negative with stop words and its frequency: %s - %f' % (statistic_df.iloc[:,-1].name, statistic_df.iloc[:,-1][\"sum class negative\"]/sum_of_negative_words ))\n",
    "print('Maximum 1st occured word in negative with stop words its frequency: %s - %f' % (statistic_df.iloc[:,-2].name, statistic_df.iloc[:,-2][\"sum class negative\"]/sum_of_negative_words ))\n",
    "print('Maximum 1st occured word in negative with stop words its frequency: %s - %f' % (statistic_df.iloc[:,-3].name, statistic_df.iloc[:,-3][\"sum class negative\"]/sum_of_negative_words ))\n",
    "\n",
    "plt.figure(0)\n",
    "plt.title('Most 3 appearing words except stop words in negative comments')\n",
    "plt.pie([statistic_df.iloc[:,-1][\"sum class negative\"], statistic_df.iloc[:,-2][\"sum class negative\"], statistic_df.iloc[:,-3][\"sum class negative\"]],\n",
    "        labels=[statistic_df.iloc[:,-1].name, statistic_df.iloc[:,-2].name, statistic_df.iloc[:,-3].name], autopct='%1.1f%%', shadow=True)\n",
    "plt.axis('equal')\n"
   ]
  },
  {
   "cell_type": "code",
   "execution_count": 9,
   "metadata": {},
   "outputs": [
    {
     "name": "stdout",
     "output_type": "stream",
     "text": [
      "Maximum 1st occured word in positive with stop words and its frequency: the - 0.056115\n",
      "Maximum 1st occured word in positive with stop words its frequency: and - 0.031389\n",
      "Maximum 1st occured word in positive with stop words its frequency: to - 0.026557\n"
     ]
    },
    {
     "data": {
      "image/png": "[encoded data removed]",
      "text/plain": [
       "<Figure size 432x288 with 1 Axes>"
      ]
     },
     "metadata": {},
     "output_type": "display_data"
    }
   ],
   "source": [
    "##### PRINT MOST 3 APPEARING WORDS IN POSITIVE ######\n",
    "\n",
    "statistic_df = statistic_df.iloc[:, np.argsort(statistic_df.loc[\"sum class positive\"])]\n",
    "sum_of_positive_words = statistic_df.loc[\"sum class positive\"].sum(axis=0)\n",
    "\n",
    "print('Maximum 1st occured word in positive with stop words and its frequency: %s - %f' % (statistic_df.iloc[:,-1].name, statistic_df.iloc[:,-1][\"sum class positive\"]/sum_of_positive_words ))\n",
    "print('Maximum 1st occured word in positive with stop words its frequency: %s - %f' % (statistic_df.iloc[:,-2].name, statistic_df.iloc[:,-2][\"sum class positive\"]/sum_of_positive_words ))\n",
    "print('Maximum 1st occured word in positive with stop words its frequency: %s - %f' % (statistic_df.iloc[:,-3].name, statistic_df.iloc[:,-3][\"sum class positive\"]/sum_of_positive_words ))\n",
    "\n",
    "plt.figure(1)\n",
    "plt.title('Most 3 appearing words except stop words in positive comments')\n",
    "plt.pie([statistic_df.iloc[:,-1][\"sum class positive\"], statistic_df.iloc[:,-2][\"sum class positive\"], statistic_df.iloc[:,-3][\"sum class positive\"]],\n",
    "        labels=[statistic_df.iloc[:,-1].name, statistic_df.iloc[:,-2].name, statistic_df.iloc[:,-3].name], autopct='%1.1f%%', shadow=True)\n",
    "plt.axis('equal')\n",
    "\n",
    "del vector_df # To free memory allocation"
   ]
  },
  {
   "cell_type": "markdown",
   "metadata": {},
   "source": [
    "# Implementing the Naive Bayes Classifier"
   ]
  },
  {
   "cell_type": "markdown",
   "metadata": {},
   "source": [
    "In this part, I have implement NaiveBayesClassifier class. By this class, you can train your model and data according to usage of the laplace smoothing. You can make a prediction by using these hyperparameters:\n",
    " \n",
    "- **is_bigram**: If you want to vectorize your data as bigram, you can set \"True\".\n",
    "- **stop_words**: If you want to eliminate stop words in prediction, you can set these words.\n",
    "- **is_tfidf**: If you want to use TF-IDF vectorizing instead Count Vectorizing, which is default, you can set True.\n",
    "\n",
    "I have use log probability with laplace smoothing to prevent 0 probabilities in likelihood of Naive Bayes formula. In addition to this, these methods are scale the huge and tiny probabilities, and helps us to get more accurate probabilities. "
   ]
  },
  {
   "cell_type": "code",
   "execution_count": 10,
   "metadata": {},
   "outputs": [],
   "source": [
    "#I have split the data as train and test by using this method\n",
    "\n",
    "def train_test_split_df(data, pure_data, test_size=0.20):\n",
    "    test_start_index = data.shape[0] - int(data.shape[0] * test_size)\n",
    "    return (data.iloc[0:test_start_index,:], pure_data.iloc[test_start_index:,:].reset_index())"
   ]
  },
  {
   "cell_type": "code",
   "execution_count": 42,
   "metadata": {},
   "outputs": [],
   "source": [
    "class NaiveBayesClassifier:\n",
    "    \n",
    "    def __init__(self):\n",
    "        self.__feature_count_dictionary_for_classes = {}\n",
    "        self.__classes_word_numbers_dictionary = {}\n",
    "        self.__dataset = pd.DataFrame()\n",
    "        self.__prediction_list = []\n",
    "        self.__input_df = pd.DataFrame()\n",
    "        self.__class_word_score_dict = {}\n",
    "        self.__class_prediction_probability = {} # In this directory, each class includes probability of words used in prediction. We will use this in modul analysis.\n",
    "        self.__is_tfidf = False\n",
    "        self.__is_bigram = False\n",
    "        self.__stop_words = None\n",
    "        \n",
    "    ###################### Getter functions of some variables ######################\n",
    "    def get_word_probability(self):\n",
    "        return self.__class_prediction_probability\n",
    "    def get_word_probability_differences(self, is_words_in_true_predicted=True): # This method returns the probability difference of words in different classes placed in true predicted documents\n",
    "                                                # We need to filter unseen words in true predicted rows of input.\n",
    "        word_probability_difference_for_class = {}\n",
    "        for class_name in self.__dataset[\"CLASS\"].unique():\n",
    "    \n",
    "            word_probability_difference_for_class[class_name] = {}\n",
    "            vectorizer1 = self.__initialize_count_vectorizer(self.__is_bigram, stop_words=self.__stop_words, is_tfidf=self.__is_tfidf)\n",
    "            if is_words_in_true_predicted:\n",
    "                vectorizer1.fit(self.__input_df[( self.__input_df.loc[:,'CLASS']- pd.DataFrame(self.__prediction_list)[0] == 0) & (self.__input_df['CLASS']==class_name)][\"tokens\"])\n",
    "            else:\n",
    "                vectorizer1.fit(self.__input_df[( self.__input_df.loc[:,'CLASS']- pd.DataFrame(self.__prediction_list)[0] != 0) & (self.__input_df['CLASS']==class_name)][\"tokens\"])\n",
    "\n",
    "            tokens_occured_in_true_predicted_for_a_class = list(vectorizer1.vocabulary_.keys())\n",
    "            \n",
    "            for word in list(self.__class_prediction_probability[class_name].keys()):\n",
    "                if word in tokens_occured_in_true_predicted_for_a_class:\n",
    "                    probability_difference_with_other_words = []\n",
    "                    for other_class_name in np.delete(self.__dataset[\"CLASS\"].unique(),  self.__dataset[\"CLASS\"].unique().tolist().index(class_name)):\n",
    "                        probability_difference_with_other_words.append(self.__class_prediction_probability[other_class_name][word]-self.__class_prediction_probability[class_name][word])\n",
    "\n",
    "                    word_probability_difference_for_class[class_name][word] = max(probability_difference_with_other_words)\n",
    "\n",
    "        return word_probability_difference_for_class\n",
    "    \n",
    "    def get_prediction_list(self):\n",
    "        return self.__prediction_list\n",
    "        \n",
    "    def get_input_df(self):\n",
    "        return self.__input_df\n",
    "    \n",
    "    def get_feature_df(self):\n",
    "        return self.__feature_count_dictionary_for_classes\n",
    "    \n",
    "    def accuracy(self):\n",
    "        actual_labels_df = self.__input_df[\"CLASS\"].copy()\n",
    "        predicted_labels_df = pd.DataFrame(self.__prediction_list)\n",
    "        # Because the actual labels index is not start from 0, I resett its index\n",
    "        actual_labels_df = actual_labels_df.reset_index(drop=True).to_frame()\n",
    "        actual_labels_df.columns = [0]\n",
    "        difference = predicted_labels_df.sub(actual_labels_df)\n",
    "        return difference[difference.iloc[:,0]==0].shape[0] / actual_labels_df.shape[0]\n",
    "\n",
    "    \n",
    "    ###################### Naive Bayes with Laplace Smoothing ######################\n",
    "\n",
    "    def train(self, dataset): #The classes should be placed end of dataframe in trained data\n",
    "        for class_name in dataset[\"CLASS\"].unique():\n",
    "            self.__class_prediction_probability[class_name] = {} \n",
    "            self.__feature_count_dictionary_for_classes[class_name] = {}\n",
    "            class_df = dataset[dataset[\"CLASS\"]==class_name]\n",
    "            for word in dataset.iloc[:,:-1].columns.values.tolist():\n",
    "                self.__feature_count_dictionary_for_classes[class_name][word] = np.sum(class_df[word]) +1\n",
    "        self.__dataset = dataset\n",
    "\n",
    "    \n",
    "    def predict_with_laplace_smoothing(self, input_df, is_bigram=False, stop_words=None, is_tfidf=False):\n",
    "\n",
    "        self.__is_tfidf = is_tfidf\n",
    "        self.__is_bigram = is_bigram\n",
    "        self.__stop_words = stop_words\n",
    "        \n",
    "        self.__input_df = input_df.copy()\n",
    "        total_words_in_classes, class_probabilities = self.__calculate_probailities_of_classes_and_total_words_in_each_classes()\n",
    "        self.__do_laplace_for_unseen_data_in_trian(is_bigram, total_words_in_classes, stop_words=stop_words, is_tfidf=is_tfidf)\n",
    "                \n",
    "        for row in input_df.index.tolist():\n",
    "            #If the bigram is used, max feature is set as 50576 because of memory issue\n",
    "            vectorizer1 = self.__initialize_count_vectorizer(is_bigram, stop_words=stop_words, is_tfidf=is_tfidf)\n",
    "            \n",
    "            #Fit count vectorizer for each row in test data\n",
    "            vector_train = vectorizer1.fit_transform([input_df[\"tokens\"][row]])\n",
    "            splitted_tokens = list(vectorizer1.vocabulary_.keys())\n",
    "            probability_dict = {}\n",
    "            \n",
    "            #Calculate prior for each class\n",
    "            for class_name in list(self.__feature_count_dictionary_for_classes.keys()):\n",
    "                probability_joint = class_probabilities[class_name]\n",
    "                for token in splitted_tokens:\n",
    "                    probability_of_word_given_class = self.__feature_count_dictionary_for_classes[class_name][token] / total_words_in_classes[class_name]\n",
    "                    probability_joint += np.log(probability_of_word_given_class)\n",
    "                    self.__class_prediction_probability[class_name][token] = probability_of_word_given_class\n",
    "                probability_dict[class_name] = probability_joint\n",
    "                \n",
    "            #Prediction\n",
    "            predicted_label = max(probability_dict.items(), key=operator.itemgetter(1))[0]\n",
    "            self.__prediction_list.append(predicted_label)       \n",
    "    \n",
    "    ###################### Naive Bayes without Laplace Smoothing ######################\n",
    "    def train_without_laplace(self, dataset): #The classes should be placed end of dataframe in trained data\n",
    "        for class_name in dataset[\"CLASS\"].unique(): \n",
    "            self.__feature_count_dictionary_for_classes[class_name] = {}\n",
    "            class_df = dataset[dataset[\"CLASS\"]==class_name]\n",
    "            for word in dataset.iloc[:,:-1].columns.values.tolist():\n",
    "                self.__feature_count_dictionary_for_classes[class_name][word] = np.sum(class_df[word])\n",
    "        self.__dataset = dataset\n",
    "\n",
    "    \n",
    "    def predict_without_laplace_smoothing(self, input_df, is_bigram=False, stop_words=None, is_tfidf=False):\n",
    "\n",
    "        self.__input_df = input_df.copy()\n",
    "        total_words_in_classes, class_probabilities = self.__calculate_probailities_of_classes_and_total_words_in_each_classes()\n",
    "                \n",
    "        for row in input_df.index.tolist():\n",
    "            #If the bigram is used, max feature is set as 50576 because of memory issue\n",
    "            vectorizer1 = self.__initialize_count_vectorizer(is_bigram, stop_words=stop_words, is_tfidf=is_tfidf)\n",
    "            \n",
    "            #Fit count vectorizer for each row in test data\n",
    "            vector_train = vectorizer1.fit_transform([input_df[\"tokens\"][row]])\n",
    "            splitted_tokens = list(vectorizer1.vocabulary_.keys())\n",
    "            probability_dict = {}\n",
    "            \n",
    "            #Calculate prior for each class\n",
    "            for class_name in list(self.__feature_count_dictionary_for_classes.keys()):\n",
    "                probability_joint = class_probabilities[class_name]\n",
    "                for token in splitted_tokens:\n",
    "                    if token not in self.__feature_count_dictionary_for_classes[class_name]:\n",
    "                        probability_joint += 0\n",
    "                    else:\n",
    "                        probability_joint += np.log(self.__feature_count_dictionary_for_classes[class_name][token] / total_words_in_classes[class_name])\n",
    "                probability_dict[class_name] = probability_joint\n",
    "                \n",
    "            #Prediction\n",
    "            predicted_label = max(probability_dict.items(), key=operator.itemgetter(1))[0]\n",
    "            self.__prediction_list.append(predicted_label)       \n",
    "            \n",
    "    \n",
    "    ###################### Private methods ######################\n",
    "    def __do_laplace_for_unseen_data_in_trian(self, is_bigram, total_words_in_classes, stop_words=None, is_tfidf=False):\n",
    "        key_list = list(self.__feature_count_dictionary_for_classes.keys())\n",
    "        if(is_bigram):\n",
    "            for class_name in key_list:\n",
    "                vectorizer = None\n",
    "                if(is_tfidf):\n",
    "                    vectorizer = TfidfVectorizer(ngram_range=(2,2), stop_words=stop_words)\n",
    "                else:\n",
    "                    vectorizer = CountVectorizer(ngram_range=(2,2), stop_words=stop_words)\n",
    "\n",
    "                for token in list(vectorizer.fit(self.__input_df[\"tokens\"]).vocabulary_.keys()):\n",
    "                    if token not in self.__feature_count_dictionary_for_classes[class_name]:\n",
    "                        self.__feature_count_dictionary_for_classes[class_name][token] = 1\n",
    "                        total_words_in_classes[class_name] += 1\n",
    "        else:\n",
    "            for class_name in key_list:\n",
    "                for token in list(CountVectorizer(ngram_range=(1,1), stop_words=stop_words).fit(self.__input_df[\"tokens\"]).vocabulary_.keys()):\n",
    "                    if token not in self.__feature_count_dictionary_for_classes[class_name]:\n",
    "                        self.__feature_count_dictionary_for_classes[class_name][token] = 1\n",
    "                        total_words_in_classes[class_name] += 1\n",
    "                        \n",
    "    def __calculate_probailities_of_classes_and_total_words_in_each_classes(self):\n",
    "        class_probabilities = {}\n",
    "        total_words_in_classes = {}\n",
    "        for class_name in list(self.__feature_count_dictionary_for_classes.keys()):\n",
    "            class_probabilities[class_name] = np.log(self.__dataset[ self.__dataset[\"CLASS\"] == class_name].shape[0] / self.__dataset.shape[0])\n",
    "            total_words_in_classes[class_name] = sum(self.__feature_count_dictionary_for_classes[class_name].values())        \n",
    "        return (total_words_in_classes, class_probabilities)\n",
    "    \n",
    "    def __initialize_count_vectorizer(self, is_bigram, stop_words=None, is_tfidf=False):\n",
    "        vectorizer1 = None\n",
    "        if(is_bigram):\n",
    "            if(is_tfidf):\n",
    "                vectorizer1 = TfidfVectorizer(max_features=50576, ngram_range=(2,2), stop_words=stop_words)\n",
    "            else:\n",
    "                vectorizer1 = CountVectorizer(max_features=50576, ngram_range=(2,2), stop_words=stop_words )   \n",
    "        else:\n",
    "            if(is_tfidf):\n",
    "                vectorizer1 = TfidfVectorizer(ngram_range=(1,1), stop_words=stop_words )\n",
    "            else:\n",
    "                vectorizer1 = CountVectorizer(ngram_range=(1,1), stop_words=stop_words )\n",
    "            \n",
    "        return vectorizer1"
   ]
  },
  {
   "cell_type": "markdown",
   "metadata": {},
   "source": [
    "# Model Evaluation"
   ]
  },
  {
   "cell_type": "markdown",
   "metadata": {},
   "source": [
    "In the modul analysis part, I aimed to analyze the hyper parameters of the model with . Firstly, I train and test the model without applying laplace smoothing in the likelihood calculation. In each part, I extract the feature according to unigram and bigram. In the training model with used laplace smoothing part, I extract the features according to these:\n",
    "- **For Unigram**:\n",
    "     - Unigram with Count Vectorizer \n",
    "     - Unigram with TF-IDF Vectorizing\n",
    "     - Unigram with Count Vectorizer and stop words\n",
    "     - Unigram with stop words and TF-IDF Vectorizing\n",
    "     \n",
    "     <br>\n",
    "- **For Bigram**:\n",
    "     - Bigram with Count Vectorizer \n",
    "     - Bigram with TF-IDF Vectorizing\n",
    "     - Bigram with Count Vectorizer and stop words\n",
    "     - Bigram with stop words and TF-IDF Vectorizing"
   ]
  },
  {
   "cell_type": "markdown",
   "metadata": {},
   "source": [
    "### 1) Without Laplace Smoothing"
   ]
  },
  {
   "cell_type": "markdown",
   "metadata": {},
   "source": [
    "Firstly, I didn't use laplace smoothing to observe difference of using the laplace smoothing:"
   ]
  },
  {
   "cell_type": "markdown",
   "metadata": {},
   "source": [
    "- **Unigram**:"
   ]
  },
  {
   "cell_type": "code",
   "execution_count": 12,
   "metadata": {},
   "outputs": [],
   "source": [
    "### UNIGRAM DATA PREPARING #####\n",
    "\n",
    "vectorizer1 = CountVectorizer()\n",
    "vector_train = vectorizer1.fit_transform(data[\"tokens\"])\n",
    "df = pd.DataFrame(vector_train.toarray())\n",
    "listt = list(vectorizer1.vocabulary_.keys())\n",
    "listt.sort()\n",
    "df.columns = listt\n",
    "df[\"CLASS\"] = data[\"CLASS\"]\n",
    "\n",
    "train_df, test_df = train_test_split_df(df, data, test_size=0.20)"
   ]
  },
  {
   "cell_type": "code",
   "execution_count": 13,
   "metadata": {},
   "outputs": [
    {
     "name": "stdout",
     "output_type": "stream",
     "text": [
      "Accuracy with UNIGRAM without laplace:  0.6158690176322418\n"
     ]
    }
   ],
   "source": [
    "model = NaiveBayesClassifier()\n",
    "model.train_without_laplace(train_df)\n",
    "model.predict_without_laplace_smoothing(test_df, is_bigram=False, stop_words=None)\n",
    "print(\"Accuracy with UNIGRAM without laplace: \",model.accuracy())"
   ]
  },
  {
   "cell_type": "markdown",
   "metadata": {},
   "source": [
    "- **Bigram**:"
   ]
  },
  {
   "cell_type": "code",
   "execution_count": 14,
   "metadata": {},
   "outputs": [],
   "source": [
    "### BIGRAM DATA PREPARING #####\n",
    "test_size= 0.20\n",
    "test_start_index = data.shape[0] - int(data.shape[0] * test_size)\n",
    "\n",
    "vectorizer_bigram = CountVectorizer(max_features=50576, ngram_range = (2, 2))\n",
    "bigram_vector_train = vectorizer_bigram.fit_transform(data.iloc[:test_start_index,-2])\n",
    "\n",
    "bigram_df = pd.DataFrame(bigram_vector_train.toarray())\n",
    "listt = list(vectorizer_bigram.vocabulary_.keys())\n",
    "listt.sort()\n",
    "bigram_df.columns = listt\n",
    "bigram_df[\"CLASS\"] = data[\"CLASS\"]\n",
    "\n",
    "listt = list(vectorizer_bigram.vocabulary_.keys())\n",
    "listt.sort()\n",
    "\n",
    "bigram_train_df = bigram_df\n",
    "bigram_test_df = data.iloc[test_start_index:,:]\n",
    "\n",
    "#I have drop this index because of the comment only includes 1 word\n",
    "bigram_test_df = bigram_test_df.reset_index()\n",
    "bigram_test_df = bigram_test_df.drop([1939])\n",
    "bigram_test_df = bigram_test_df.reset_index()"
   ]
  },
  {
   "cell_type": "code",
   "execution_count": 15,
   "metadata": {},
   "outputs": [
    {
     "name": "stdout",
     "output_type": "stream",
     "text": [
      "Accuracy with BIGRAM without laplace 0.7240655186896262\n"
     ]
    }
   ],
   "source": [
    "model = NaiveBayesClassifier()\n",
    "model.train_without_laplace(bigram_train_df)\n",
    "model.predict_without_laplace_smoothing(bigram_test_df, is_bigram=True, stop_words=None)\n",
    "print(\"Accuracy with BIGRAM without laplace\",model.accuracy())"
   ]
  },
  {
   "cell_type": "markdown",
   "metadata": {},
   "source": [
    "### 2) With Laplace Smoothing"
   ]
  },
  {
   "cell_type": "markdown",
   "metadata": {},
   "source": [
    "As you can see here, the most accurate results are given with laplace smoothing. We can look at :"
   ]
  },
  {
   "cell_type": "markdown",
   "metadata": {},
   "source": [
    "- **Unigram** with **Count Vectorizer**:"
   ]
  },
  {
   "cell_type": "code",
   "execution_count": 16,
   "metadata": {},
   "outputs": [],
   "source": [
    "### UNIGRAM DATA PREPARING #####\n",
    "\n",
    "vectorizer1 = CountVectorizer()\n",
    "vector_train = vectorizer1.fit_transform(data[\"tokens\"])\n",
    "df = pd.DataFrame(vector_train.toarray())\n",
    "listt = list(vectorizer1.vocabulary_.keys())\n",
    "listt.sort()\n",
    "df.columns = listt\n",
    "df[\"CLASS\"] = data[\"CLASS\"]\n",
    "\n",
    "train_df, test_df = train_test_split_df(df, data, test_size=0.20)"
   ]
  },
  {
   "cell_type": "code",
   "execution_count": 17,
   "metadata": {},
   "outputs": [
    {
     "name": "stdout",
     "output_type": "stream",
     "text": [
      "Accuracy with UNIGRAM:  0.8182199832073888\n"
     ]
    }
   ],
   "source": [
    "model_unigram = NaiveBayesClassifier()\n",
    "model_unigram.train(train_df)\n",
    "model_unigram.predict_with_laplace_smoothing(test_df, is_bigram=False, stop_words=None)\n",
    "acc_unigram = model_unigram.accuracy()\n",
    "print(\"Accuracy with UNIGRAM: \",acc_unigram)"
   ]
  },
  {
   "cell_type": "markdown",
   "metadata": {},
   "source": [
    "- **Unigram** with **TF-IDF Vectorizing**:"
   ]
  },
  {
   "cell_type": "code",
   "execution_count": 46,
   "metadata": {},
   "outputs": [],
   "source": [
    "### UNIGRAM DATA PREPARING #####\n",
    "\n",
    "vectorizer1 = TfidfVectorizer()\n",
    "vector_train = vectorizer1.fit_transform(data[\"tokens\"])\n",
    "df = pd.DataFrame(vector_train.toarray())\n",
    "listt = list(vectorizer1.vocabulary_.keys())\n",
    "listt.sort()\n",
    "df.columns = listt\n",
    "df[\"CLASS\"] = data[\"CLASS\"]\n",
    "\n",
    "train_df, test_df = train_test_split_df(df, data, test_size=0.20)"
   ]
  },
  {
   "cell_type": "code",
   "execution_count": 47,
   "metadata": {},
   "outputs": [
    {
     "name": "stdout",
     "output_type": "stream",
     "text": [
      "Accuracy with UNIGRAM and TF-IDF:  0.8350125944584383\n"
     ]
    }
   ],
   "source": [
    "model_unigram_tfidf = NaiveBayesClassifier()\n",
    "model_unigram_tfidf.train(train_df)\n",
    "model_unigram_tfidf.predict_with_laplace_smoothing(test_df, is_bigram=False, stop_words= None, is_tfidf=True)\n",
    "acc_unigram_tfidf = model_unigram_tfidf.accuracy()\n",
    "print(\"Accuracy with UNIGRAM and TF-IDF: \",acc_unigram_tfidf)"
   ]
  },
  {
   "cell_type": "markdown",
   "metadata": {},
   "source": [
    "- **Unigram** with **Count Vectorizer** and **without stop words**:"
   ]
  },
  {
   "cell_type": "code",
   "execution_count": 20,
   "metadata": {},
   "outputs": [],
   "source": [
    "### UNIGRAM DATA PREPARING #####\n",
    "\n",
    "vectorizer1 = CountVectorizer(stop_words= ENGLISH_STOP_WORDS)\n",
    "vector_train = vectorizer1.fit_transform(data[\"tokens\"])\n",
    "df = pd.DataFrame(vector_train.toarray())\n",
    "listt = list(vectorizer1.vocabulary_.keys())\n",
    "listt.sort()\n",
    "df.columns = listt\n",
    "df[\"CLASS\"] = data[\"CLASS\"]\n",
    "\n",
    "train_df, test_df = train_test_split_df(df, data, test_size=0.20)"
   ]
  },
  {
   "cell_type": "code",
   "execution_count": 21,
   "metadata": {},
   "outputs": [
    {
     "name": "stdout",
     "output_type": "stream",
     "text": [
      "Accuracy with UNIGRAM and without STOP WORDS:  0.8031066330814441\n"
     ]
    }
   ],
   "source": [
    "model_unigram_stop_words = NaiveBayesClassifier()\n",
    "model_unigram_stop_words.train(train_df)\n",
    "model_unigram_stop_words.predict_with_laplace_smoothing(test_df, is_bigram=False, stop_words= ENGLISH_STOP_WORDS)\n",
    "acc_unigram_stop_words = model_unigram_stop_words.accuracy()\n",
    "print(\"Accuracy with UNIGRAM and without STOP WORDS: \",acc_unigram_stop_words)"
   ]
  },
  {
   "cell_type": "markdown",
   "metadata": {},
   "source": [
    "- **Unigram** without **stop words** and **TF-IDF Vectorizing**:"
   ]
  },
  {
   "cell_type": "code",
   "execution_count": 22,
   "metadata": {},
   "outputs": [],
   "source": [
    "### UNIGRAM DATA PREPARING #####\n",
    "\n",
    "vectorizer1 = TfidfVectorizer(stop_words= ENGLISH_STOP_WORDS)\n",
    "vector_train = vectorizer1.fit_transform(data[\"tokens\"])\n",
    "df = pd.DataFrame(vector_train.toarray())\n",
    "listt = list(vectorizer1.vocabulary_.keys())\n",
    "listt.sort()\n",
    "df.columns = listt\n",
    "df[\"CLASS\"] = data[\"CLASS\"]\n",
    "\n",
    "train_df, test_df = train_test_split_df(df, data, test_size=0.20)"
   ]
  },
  {
   "cell_type": "code",
   "execution_count": 23,
   "metadata": {},
   "outputs": [
    {
     "name": "stdout",
     "output_type": "stream",
     "text": [
      "Accuracy with UNIGRAM, TF-IDF and without STOP WORDS:  0.8278757346767422\n"
     ]
    }
   ],
   "source": [
    "model_unigram_stop_words_tfidf = NaiveBayesClassifier()\n",
    "model_unigram_stop_words_tfidf.train(train_df)\n",
    "model_unigram_stop_words_tfidf.predict_with_laplace_smoothing(test_df, is_bigram=False, stop_words= ENGLISH_STOP_WORDS, is_tfidf=True)\n",
    "acc_unigram_stop_words_tfidf = model_unigram_stop_words_tfidf.accuracy()\n",
    "print(\"Accuracy with UNIGRAM, TF-IDF and without STOP WORDS: \", acc_unigram_stop_words_tfidf)"
   ]
  },
  {
   "cell_type": "code",
   "execution_count": null,
   "metadata": {},
   "outputs": [],
   "source": []
  },
  {
   "cell_type": "code",
   "execution_count": null,
   "metadata": {},
   "outputs": [],
   "source": []
  },
  {
   "cell_type": "markdown",
   "metadata": {},
   "source": [
    "- **Bigram** with **Count Vectorizer**:"
   ]
  },
  {
   "cell_type": "markdown",
   "metadata": {},
   "source": [
    "I have set max features of count vectorizer as 50576 because of memory issues. This value is recommended to train NLP works with  big data."
   ]
  },
  {
   "cell_type": "code",
   "execution_count": 24,
   "metadata": {},
   "outputs": [],
   "source": [
    "### BIGRAM DATA PREPARING #####\n",
    "test_size= 0.20\n",
    "test_start_index = data.shape[0] - int(data.shape[0] * test_size)\n",
    "\n",
    "vectorizer_bigram = CountVectorizer(max_features=50576, ngram_range = (2, 2))\n",
    "bigram_vector_train = vectorizer_bigram.fit_transform(data.iloc[:test_start_index,-2])\n",
    "\n",
    "bigram_df = pd.DataFrame(bigram_vector_train.toarray())\n",
    "listt = list(vectorizer_bigram.vocabulary_.keys())\n",
    "listt.sort()\n",
    "bigram_df.columns = listt\n",
    "bigram_df[\"CLASS\"] = data[\"CLASS\"]\n",
    "\n",
    "listt = list(vectorizer_bigram.vocabulary_.keys())\n",
    "listt.sort()\n",
    "\n",
    "bigram_train_df = bigram_df\n",
    "bigram_test_df = data.iloc[test_start_index:,:]\n",
    "bigram_test_df = bigram_test_df.reset_index()\n",
    "\n",
    "#I have drop this index because of the comment only includes 1 word\n",
    "bigram_test_df = bigram_test_df.drop([1939])\n",
    "bigram_test_df = bigram_test_df.reset_index()"
   ]
  },
  {
   "cell_type": "code",
   "execution_count": 25,
   "metadata": {},
   "outputs": [
    {
     "name": "stdout",
     "output_type": "stream",
     "text": [
      "Accuracy with BIGRAM 0.8559428811423772\n"
     ]
    }
   ],
   "source": [
    "model_bigram = NaiveBayesClassifier()\n",
    "model_bigram.train(bigram_train_df)\n",
    "model_bigram.predict_with_laplace_smoothing(bigram_test_df, is_bigram=True, stop_words=None)\n",
    "acc_bigram = model_bigram.accuracy()\n",
    "print(\"Accuracy with BIGRAM\", acc_bigram)"
   ]
  },
  {
   "cell_type": "markdown",
   "metadata": {},
   "source": [
    "- **Bigram** with **TF-IDF Vectorizing**:"
   ]
  },
  {
   "cell_type": "code",
   "execution_count": 43,
   "metadata": {},
   "outputs": [],
   "source": [
    "### BIGRAM DATA PREPARING #####\n",
    "test_size= 0.20\n",
    "test_start_index = data.shape[0] - int(data.shape[0] * test_size)\n",
    "\n",
    "vectorizer_bigram = TfidfVectorizer(max_features=50576, ngram_range = (2, 2))\n",
    "bigram_vector_train = vectorizer_bigram.fit_transform(data.iloc[:test_start_index,-2])\n",
    "\n",
    "bigram_df = pd.DataFrame(bigram_vector_train.toarray())\n",
    "listt = list(vectorizer_bigram.vocabulary_.keys())\n",
    "listt.sort()\n",
    "bigram_df.columns = listt\n",
    "bigram_df[\"CLASS\"] = data[\"CLASS\"]\n",
    "\n",
    "listt = list(vectorizer_bigram.vocabulary_.keys())\n",
    "listt.sort()\n",
    "\n",
    "bigram_train_df = bigram_df\n",
    "bigram_test_df = data.iloc[test_start_index:,:]\n",
    "bigram_test_df = bigram_test_df.reset_index()\n",
    "\n",
    "#I have drop this index because of the comment only includes 1 word\n",
    "bigram_test_df = bigram_test_df.drop([1939])\n",
    "bigram_test_df = bigram_test_df.reset_index()"
   ]
  },
  {
   "cell_type": "code",
   "execution_count": 44,
   "metadata": {},
   "outputs": [
    {
     "name": "stdout",
     "output_type": "stream",
     "text": [
      "Accuracy with BIGRAM and TF-IDF 0.8660226795464091\n"
     ]
    }
   ],
   "source": [
    "model_bigram_tfidf = NaiveBayesClassifier()\n",
    "model_bigram_tfidf.train(bigram_train_df)\n",
    "model_bigram_tfidf.predict_with_laplace_smoothing(bigram_test_df, is_bigram=True, stop_words=None, is_tfidf=True )\n",
    "acc_bigram_tfidf = model_bigram_tfidf.accuracy()\n",
    "print(\"Accuracy with BIGRAM and TF-IDF\", acc_bigram_tfidf)"
   ]
  },
  {
   "cell_type": "markdown",
   "metadata": {},
   "source": [
    "- **Bigram** with **Count Vectorizer** and **without stop words**: "
   ]
  },
  {
   "cell_type": "code",
   "execution_count": 28,
   "metadata": {},
   "outputs": [],
   "source": [
    "### BIGRAM DATA PREPARING #####\n",
    "test_size= 0.20\n",
    "test_start_index = data.shape[0] - int(data.shape[0] * test_size)\n",
    "\n",
    "vectorizer_bigram = CountVectorizer(max_features=50576, ngram_range = (2, 2), stop_words= ENGLISH_STOP_WORDS)\n",
    "bigram_vector_train = vectorizer_bigram.fit_transform(data.iloc[:test_start_index,-2])\n",
    "\n",
    "bigram_df = pd.DataFrame(bigram_vector_train.toarray())\n",
    "listt = list(vectorizer_bigram.vocabulary_.keys())\n",
    "listt.sort()\n",
    "bigram_df.columns = listt\n",
    "bigram_df[\"CLASS\"] = data[\"CLASS\"]\n",
    "\n",
    "listt = list(vectorizer_bigram.vocabulary_.keys())\n",
    "listt.sort()\n",
    "\n",
    "bigram_train_df = bigram_df\n",
    "bigram_test_df = data.iloc[test_start_index:,:]\n",
    "bigram_test_df = bigram_test_df.reset_index()\n",
    "\n",
    "#I have drop this index because of the comment only includes 1 word\n",
    "bigram_test_df = bigram_test_df.drop([1939])\n",
    "bigram_test_df = bigram_test_df.reset_index()"
   ]
  },
  {
   "cell_type": "code",
   "execution_count": 29,
   "metadata": {
    "scrolled": true
   },
   "outputs": [
    {
     "name": "stdout",
     "output_type": "stream",
     "text": [
      "Accuracy with BIGRAM and without STOP WORDS 0.7102057958840823\n"
     ]
    }
   ],
   "source": [
    "model_bigram_stop_words = NaiveBayesClassifier()\n",
    "model_bigram_stop_words.train(bigram_train_df)\n",
    "model_bigram_stop_words.predict_with_laplace_smoothing(bigram_test_df, is_bigram=True, stop_words=ENGLISH_STOP_WORDS)\n",
    "acc_bigram_stop_words = model_bigram_stop_words.accuracy()\n",
    "print(\"Accuracy with BIGRAM and without STOP WORDS\", acc_bigram_stop_words)"
   ]
  },
  {
   "cell_type": "markdown",
   "metadata": {},
   "source": [
    "- **Bigram** without **stop words** and **TF-IDF Vectorizing**: "
   ]
  },
  {
   "cell_type": "code",
   "execution_count": 30,
   "metadata": {},
   "outputs": [],
   "source": [
    "### BIGRAM DATA PREPARING #####\n",
    "test_size= 0.20\n",
    "test_start_index = data.shape[0] - int(data.shape[0] * test_size)\n",
    "\n",
    "vectorizer_bigram = TfidfVectorizer(max_features=50576, ngram_range = (2, 2), stop_words= ENGLISH_STOP_WORDS)\n",
    "bigram_vector_train = vectorizer_bigram.fit_transform(data.iloc[:test_start_index,-2])\n",
    "\n",
    "bigram_df = pd.DataFrame(bigram_vector_train.toarray())\n",
    "listt = list(vectorizer_bigram.vocabulary_.keys())\n",
    "listt.sort()\n",
    "bigram_df.columns = listt\n",
    "bigram_df[\"CLASS\"] = data[\"CLASS\"]\n",
    "\n",
    "listt = list(vectorizer_bigram.vocabulary_.keys())\n",
    "listt.sort()\n",
    "\n",
    "bigram_train_df = bigram_df\n",
    "bigram_test_df = data.iloc[test_start_index:,:]\n",
    "bigram_test_df = bigram_test_df.reset_index()\n",
    "\n",
    "#I have drop this index because of the comment only includes 1 word\n",
    "bigram_test_df = bigram_test_df.drop([1939])\n",
    "bigram_test_df = bigram_test_df.reset_index()"
   ]
  },
  {
   "cell_type": "code",
   "execution_count": 31,
   "metadata": {},
   "outputs": [
    {
     "name": "stdout",
     "output_type": "stream",
     "text": [
      "Accuracy with BIGRAM, TF-IDF and without STOP WORDS:  0.7656446871062579\n"
     ]
    }
   ],
   "source": [
    "model_bigram_stop_words_tf_idf = NaiveBayesClassifier()\n",
    "model_bigram_stop_words_tf_idf.train(bigram_train_df)\n",
    "model_bigram_stop_words_tf_idf.predict_with_laplace_smoothing(bigram_test_df, is_bigram=True, stop_words=ENGLISH_STOP_WORDS, is_tfidf=True)\n",
    "acc_bigram_stop_words_tf_idf = model_bigram_stop_words_tf_idf.accuracy()\n",
    "print(\"Accuracy with BIGRAM, TF-IDF and without STOP WORDS: \", acc_bigram_stop_words_tf_idf)"
   ]
  },
  {
   "cell_type": "markdown",
   "metadata": {},
   "source": [
    "We can see the accuracies:"
   ]
  },
  {
   "cell_type": "code",
   "execution_count": 32,
   "metadata": {},
   "outputs": [
    {
     "data": {
      "image/png": "[encoded data removed]",
      "text/plain": [
       "<Figure size 1152x720 with 1 Axes>"
      ]
     },
     "metadata": {},
     "output_type": "display_data"
    }
   ],
   "source": [
    "fig = plt.figure(figsize=(16, 10))\n",
    "ax = fig.add_axes([0,0,1,1])\n",
    "langs = ['Bigram & Without Stop Words', \n",
    "         'Bigram, Without Stop Words & TF-IDF', \n",
    "         'Unigram & Without Stop Words', \n",
    "         'Unigram', \n",
    "         'Unigram, Without Stop Words & TF-ID', \n",
    "         'Unigram, TF-ID',\n",
    "         'Bigram',\n",
    "         'Bigram & TF-IDF', \n",
    "        ]\n",
    "\n",
    "knn_accuracy = [acc_bigram_stop_words, \n",
    "                acc_bigram_stop_words_tf_idf, \n",
    "                acc_unigram_stop_words, \n",
    "                acc_unigram, \n",
    "                acc_unigram_stop_words_tfidf,\n",
    "                acc_unigram_tfidf,\n",
    "                acc_bigram,\n",
    "                acc_bigram_tfidf]\n",
    "barWidth = 0.25\n",
    "\n",
    "r1 = np.arange(len(langs))\n",
    "r2 = [x + barWidth for x in r1] \n",
    "\n",
    "plt.bar(r2,knn_accuracy,color='r', width=barWidth )\n",
    "  \n",
    "plt.ylabel('Accuracy Rate of Models')\n",
    "  \n",
    "plt.xticks([r + barWidth for r in range(0,len(langs))], langs)\n",
    "\n",
    "plt.show()"
   ]
  },
  {
   "cell_type": "markdown",
   "metadata": {},
   "source": [
    "As we can see, the most accurate result is given with **Bigram & TF-IDF** model."
   ]
  },
  {
   "cell_type": "markdown",
   "metadata": {},
   "source": [
    "|Models | Accuracy |\n",
    "| :- | --- |\n",
    "| Bigram & TF-IDF | 0.866 |\n",
    "| Bigram | 0.855 |\n",
    "| Unigram, TF-ID | 0.835 |\n",
    "| Unigram, Without Stop Words & TF-ID | 0.827 |\n",
    "| Unigram | 0.818 |\n",
    "| Unigram & Without Stop Words | 0.803 |\n",
    "| Bigram, Without Stop Words & TF-IDF | 0.765 |\n",
    "| Bigram & Without Stop Words | 0.710 |"
   ]
  },
  {
   "cell_type": "markdown",
   "metadata": {},
   "source": [
    "If we look at the bigram and unigram results individual, we can say that taken of the words as bigram makes the model more accurate than unigram. The cause of this can be said that the meanings of the words can be change according to using in place:"
   ]
  },
  {
   "cell_type": "markdown",
   "metadata": {},
   "source": [
    "|Models| Accuracy |\n",
    "| :- | --- |\n",
    "| Bigram | 0.855 |  \n",
    "| Unigram | 0.818 |"
   ]
  },
  {
   "cell_type": "markdown",
   "metadata": {},
   "source": [
    "Also, the TF-IDF Vectorizing gives more scaled points to words. Therefore, it gives more accurate results than directly counting their occurence in classes."
   ]
  },
  {
   "cell_type": "markdown",
   "metadata": {},
   "source": [
    "|Models| Accuracy |\n",
    "| :- | --- |\n",
    "| Bigram & TF-IDF |0.866 |  \n",
    "| Bigram |  0.855 |"
   ]
  },
  {
   "cell_type": "markdown",
   "metadata": {},
   "source": [
    "# Error Analysis"
   ]
  },
  {
   "cell_type": "markdown",
   "metadata": {},
   "source": [
    "We will look the **bigram and TF-IDF** model for error analysis.\n",
    "\n",
    "In each class, If we look at the the biggest probabilities of words expect stop words (We can say that, number of thestop words will be equal both positive and negative classes) which falsely predicted as positive but it is negative, their probability values, also we can say that their values are mostly equal in each class. Therefore, the little differences cause the prediction as false. For example, most biggest probability value is given by **camera** and **lens** for both classes and their value also extremely close each other."
   ]
  },
  {
   "cell_type": "code",
   "execution_count": 116,
   "metadata": {},
   "outputs": [],
   "source": [
    "false_predicted_comment = test_df[( test_df.loc[:,'CLASS']- pd.DataFrame(model_unigram_tfidf.get_prediction_list())[0] != 0) & (test_df['CLASS']==0)].iloc[1,:][\"tokens\"]"
   ]
  },
  {
   "cell_type": "code",
   "execution_count": 130,
   "metadata": {},
   "outputs": [
    {
     "name": "stdout",
     "output_type": "stream",
     "text": [
      "['camera', 'poor', 'lens', '1x', 'zoom', 'barrel', 'spherical', 'distortion', 'enormous', 'try', 'taking', 'picture', 'tiled', 'wall', 'image', 'quality', 'viewed', '100', 'scaled', 'computer', 'monitor', 'ok', 'color', 'fidelity', 'using', 'flash', 'auto', 'white', 'balance']\n"
     ]
    }
   ],
   "source": [
    "vectorizer = CountVectorizer(stop_words=ENGLISH_STOP_WORDS)\n",
    "vector = vectorizer.fit_transform([false_predicted_comment])\n",
    "\n",
    "splitted_words = list(vectorizer.vocabulary_.keys())\n",
    "print(splitted_words)"
   ]
  },
  {
   "cell_type": "code",
   "execution_count": 134,
   "metadata": {},
   "outputs": [
    {
     "name": "stdout",
     "output_type": "stream",
     "text": [
      "Word: camera *** Probability in class positive: -6.847764119542066\n",
      "Word: lens *** Probability in class positive: -7.460139361234997\n",
      "Word: using *** Probability in class positive: -7.713731867464607\n",
      "Word: quality *** Probability in class positive: -7.738111145426693\n",
      "Word: computer *** Probability in class positive: -8.313662039748673\n",
      "Word: picture *** Probability in class positive: -8.389795253179997\n",
      "Word: flash *** Probability in class positive: -8.4262352895722\n"
     ]
    }
   ],
   "source": [
    "total_words_in_positive = sum(model_unigram_tfidf.get_feature_df()[1].values())   \n",
    "\n",
    "\n",
    "class_name=1\n",
    "probability_dict = {}\n",
    "probability_dict[class_name] = {}\n",
    "\n",
    "for token in splitted_words:\n",
    "    probability_of_word_given_class = log(model_unigram_tfidf.get_feature_df()[class_name][token] / total_words_in_positive)\n",
    "    probability_dict[class_name][token] = probability_of_word_given_class\n",
    "    \n",
    "#Prediction\n",
    "word_likelihood_in_positive1 = sorted(probability_dict[1], key=probability_dict[1].get, reverse=True)[0]\n",
    "word_likelihood_in_positive2 = sorted(probability_dict[1], key=probability_dict[1].get, reverse=True)[1]\n",
    "word_likelihood_in_positive3 = sorted(probability_dict[1], key=probability_dict[1].get, reverse=True)[2]\n",
    "word_likelihood_in_positive4 = sorted(probability_dict[1], key=probability_dict[1].get, reverse=True)[3]\n",
    "word_likelihood_in_positive5 = sorted(probability_dict[1], key=probability_dict[1].get, reverse=True)[4]\n",
    "word_likelihood_in_positive6 = sorted(probability_dict[1], key=probability_dict[1].get, reverse=True)[5]\n",
    "word_likelihood_in_positive7 = sorted(probability_dict[1], key=probability_dict[1].get, reverse=True)[6]\n",
    "print(\"Word: \" + word_likelihood_in_positive1+\" *** Probability in class positive: \"+str(probability_dict[1][word_likelihood_in_positive1]) )  \n",
    "print(\"Word: \" + word_likelihood_in_positive2+\" *** Probability in class positive: \"+str(probability_dict[1][word_likelihood_in_positive2]) )  \n",
    "print(\"Word: \" + word_likelihood_in_positive3+\" *** Probability in class positive: \"+str(probability_dict[1][word_likelihood_in_positive3]) )  \n",
    "print(\"Word: \" + word_likelihood_in_positive4+\" *** Probability in class positive: \"+str(probability_dict[1][word_likelihood_in_positive4]) )  \n",
    "print(\"Word: \" + word_likelihood_in_positive5+\" *** Probability in class positive: \"+str(probability_dict[1][word_likelihood_in_positive5]) )  \n",
    "print(\"Word: \" + word_likelihood_in_positive6+\" *** Probability in class positive: \"+str(probability_dict[1][word_likelihood_in_positive6]) )  \n",
    "print(\"Word: \" + word_likelihood_in_positive7+\" *** Probability in class positive: \"+str(probability_dict[1][word_likelihood_in_positive7]) )  "
   ]
  },
  {
   "cell_type": "code",
   "execution_count": 135,
   "metadata": {},
   "outputs": [
    {
     "name": "stdout",
     "output_type": "stream",
     "text": [
      "Word: camera *** Probability in class positive: -6.858499669909265\n",
      "Word: quality *** Probability in class positive: -7.741476164561545\n",
      "Word: computer *** Probability in class positive: -7.997515148378714\n",
      "Word: try *** Probability in class positive: -8.05716273433073\n",
      "Word: using *** Probability in class positive: -8.093522036100094\n",
      "Word: lens *** Probability in class positive: -8.103718880573298\n",
      "Word: poor *** Probability in class positive: -8.108852384499853\n"
     ]
    }
   ],
   "source": [
    "total_words_in_negative = sum(model_unigram_tfidf.get_feature_df()[0].values())   \n",
    "\n",
    "\n",
    "class_name=0\n",
    "probability_dict = {}\n",
    "probability_dict[class_name] = {}\n",
    "\n",
    "for token in splitted_words:\n",
    "    probability_of_word_given_class = log(model_unigram_tfidf.get_feature_df()[class_name][token] / total_words_in_negative)\n",
    "    probability_dict[class_name][token] = probability_of_word_given_class\n",
    "    \n",
    "#Prediction\n",
    "word_likelihood_in_negative1 = sorted(probability_dict[0], key=probability_dict[0].get, reverse=True)[0]\n",
    "word_likelihood_in_negative2 = sorted(probability_dict[0], key=probability_dict[0].get, reverse=True)[1]\n",
    "word_likelihood_in_negative3 = sorted(probability_dict[0], key=probability_dict[0].get, reverse=True)[2]\n",
    "word_likelihood_in_negative4 = sorted(probability_dict[0], key=probability_dict[0].get, reverse=True)[3]\n",
    "word_likelihood_in_negative5 = sorted(probability_dict[0], key=probability_dict[0].get, reverse=True)[4]\n",
    "word_likelihood_in_negative6 = sorted(probability_dict[0], key=probability_dict[0].get, reverse=True)[5]\n",
    "word_likelihood_in_negative7 = sorted(probability_dict[0], key=probability_dict[0].get, reverse=True)[6]\n",
    "print(\"Word: \" + word_likelihood_in_negative1+\" *** Probability in class positive: \"+str(probability_dict[0][word_likelihood_in_negative1]) )  \n",
    "print(\"Word: \" + word_likelihood_in_negative2+\" *** Probability in class positive: \"+str(probability_dict[0][word_likelihood_in_negative2]) )  \n",
    "print(\"Word: \" + word_likelihood_in_negative3+\" *** Probability in class positive: \"+str(probability_dict[0][word_likelihood_in_negative3]) )  \n",
    "print(\"Word: \" + word_likelihood_in_negative4+\" *** Probability in class positive: \"+str(probability_dict[0][word_likelihood_in_negative4]) )  \n",
    "print(\"Word: \" + word_likelihood_in_negative5+\" *** Probability in class positive: \"+str(probability_dict[0][word_likelihood_in_negative5]) )  \n",
    "print(\"Word: \" + word_likelihood_in_negative6+\" *** Probability in class positive: \"+str(probability_dict[0][word_likelihood_in_negative6]) )  \n",
    "print(\"Word: \" + word_likelihood_in_negative7+\" *** Probability in class positive: \"+str(probability_dict[0][word_likelihood_in_negative7]) )  "
   ]
  },
  {
   "cell_type": "markdown",
   "metadata": {},
   "source": [
    "# Modul Analysis"
   ]
  },
  {
   "cell_type": "markdown",
   "metadata": {},
   "source": [
    "### (a) Analyzing effect of the words on prediction"
   ]
  },
  {
   "cell_type": "markdown",
   "metadata": {},
   "source": [
    "I chose the **Unigram & TF-IDF** model to analyze effects of the words on prediction. I will explain how I evaluate the words by analyzing their effects on prediction: For words which has an effect on positive with its presence, I got the words which has biggest positive number of probability difference with negative class and occured in true predicted documents. Also to evaluate their absence, I look at the least probability difference. \n",
    "\n",
    "**NOT:** I don't get absolute of the difference, so it means that the word which have a negative number of probability will positively effect the prediction its absence.\n",
    "\n",
    "If we look at the first 10 words whose presence most strongly predicts that the review is positive, these are **great, and, easy, love, best, is, excellent, use, as**, and **well**"
   ]
  },
  {
   "cell_type": "code",
   "execution_count": 34,
   "metadata": {},
   "outputs": [],
   "source": [
    "probability_true_predicted = model_unigram_tfidf.get_word_probability_differences()"
   ]
  },
  {
   "cell_type": "code",
   "execution_count": 35,
   "metadata": {},
   "outputs": [
    {
     "name": "stdout",
     "output_type": "stream",
     "text": [
      "1st most affect of presence to predict positive:  great\n",
      "2st most affect of presence to predict positive:  and\n",
      "3st most affect of presence to predict positive:  easy\n",
      "4st most affect of presence to predict positive:  love\n",
      "5st most affect of presence to predict positive:  best\n",
      "6st most affect of presence to predict positive:  is\n",
      "7st most affect of presence to predict positive:  excellent\n",
      "8st most affect of presence to predict positive:  use\n",
      "9st most affect of presence to predict positive:  as\n",
      "10st most affect of presence to predict positive:  well\n"
     ]
    }
   ],
   "source": [
    "print(\"1st most affect of presence to predict positive: \",sorted(probability_true_predicted[1], key=probability_true_predicted[1].get, reverse=False)[0])\n",
    "print(\"2st most affect of presence to predict positive: \",sorted(probability_true_predicted[1], key=probability_true_predicted[1].get, reverse=False)[1])\n",
    "print(\"3st most affect of presence to predict positive: \",sorted(probability_true_predicted[1], key=probability_true_predicted[1].get, reverse=False)[2])\n",
    "print(\"4st most affect of presence to predict positive: \",sorted(probability_true_predicted[1], key=probability_true_predicted[1].get, reverse=False)[3])\n",
    "print(\"5st most affect of presence to predict positive: \",sorted(probability_true_predicted[1], key=probability_true_predicted[1].get, reverse=False)[4])\n",
    "print(\"6st most affect of presence to predict positive: \",sorted(probability_true_predicted[1], key=probability_true_predicted[1].get, reverse=False)[5])\n",
    "print(\"7st most affect of presence to predict positive: \",sorted(probability_true_predicted[1], key=probability_true_predicted[1].get, reverse=False)[6])\n",
    "print(\"8st most affect of presence to predict positive: \",sorted(probability_true_predicted[1], key=probability_true_predicted[1].get, reverse=False)[7])\n",
    "print(\"9st most affect of presence to predict positive: \",sorted(probability_true_predicted[1], key=probability_true_predicted[1].get, reverse=False)[8])\n",
    "print(\"10st most affect of presence to predict positive: \",sorted(probability_true_predicted[1], key=probability_true_predicted[1].get, reverse=False)[9])\n"
   ]
  },
  {
   "cell_type": "markdown",
   "metadata": {},
   "source": [
    "The first 10 words whose absence most strongly predicts that the review is positive are **not, was, money, waste, did, do, bad, no, but, and would**. "
   ]
  },
  {
   "cell_type": "code",
   "execution_count": 36,
   "metadata": {},
   "outputs": [
    {
     "name": "stdout",
     "output_type": "stream",
     "text": [
      "1st most affect of absence to predict positive:  not\n",
      "2st most affect of absence to predict positive:  was\n",
      "3st most affect of absence to predict positive:  money\n",
      "4st most affect of absence to predict positive:  waste\n",
      "5st most affect of absence to predict positive:  did\n",
      "6st most affect of absence to predict positive:  do\n",
      "7st most affect of absence to predict positive:  bad\n",
      "8st most affect of absence to predict positive:  no\n",
      "9st most affect of absence to predict positive:  but\n",
      "10st most affect of absence to predict positive:  would\n"
     ]
    }
   ],
   "source": [
    "print(\"1st most affect of absence to predict positive: \",sorted(probability_true_predicted[1], key=probability_true_predicted[1].get, reverse=True)[0])\n",
    "print(\"2st most affect of absence to predict positive: \",sorted(probability_true_predicted[1], key=probability_true_predicted[1].get, reverse=True)[1])\n",
    "print(\"3st most affect of absence to predict positive: \",sorted(probability_true_predicted[1], key=probability_true_predicted[1].get, reverse=True)[2])\n",
    "print(\"4st most affect of absence to predict positive: \",sorted(probability_true_predicted[1], key=probability_true_predicted[1].get, reverse=True)[3])\n",
    "print(\"5st most affect of absence to predict positive: \",sorted(probability_true_predicted[1], key=probability_true_predicted[1].get, reverse=True)[4])\n",
    "print(\"6st most affect of absence to predict positive: \",sorted(probability_true_predicted[1], key=probability_true_predicted[1].get, reverse=True)[5])\n",
    "print(\"7st most affect of absence to predict positive: \",sorted(probability_true_predicted[1], key=probability_true_predicted[1].get, reverse=True)[6])\n",
    "print(\"8st most affect of absence to predict positive: \",sorted(probability_true_predicted[1], key=probability_true_predicted[1].get, reverse=True)[7])\n",
    "print(\"9st most affect of absence to predict positive: \",sorted(probability_true_predicted[1], key=probability_true_predicted[1].get, reverse=True)[8])\n",
    "print(\"10st most affect of absence to predict positive: \",sorted(probability_true_predicted[1], key=probability_true_predicted[1].get, reverse=True)[9])\n"
   ]
  },
  {
   "cell_type": "markdown",
   "metadata": {},
   "source": [
    "If we look at the first 10 words whose presence most strongly predicts that the review is negative, these are **not, was, money, waste, did, do, bad, no, but**, and **would**."
   ]
  },
  {
   "cell_type": "code",
   "execution_count": 37,
   "metadata": {},
   "outputs": [
    {
     "name": "stdout",
     "output_type": "stream",
     "text": [
      "1st most affect of presence to predict negative:  not\n",
      "2st most affect of presence to predict negative:  was\n",
      "3st most affect of presence to predict negative:  money\n",
      "4st most affect of presence to predict negative:  waste\n",
      "5st most affect of presence to predict negative:  did\n",
      "6st most affect of presence to predict negative:  do\n",
      "7st most affect of presence to predict negative:  bad\n",
      "8st most affect of presence to predict negative:  no\n",
      "9st most affect of presence to predict negative:  but\n",
      "10st most affect of presence to predict negative:  would\n"
     ]
    }
   ],
   "source": [
    "print(\"1st most affect of presence to predict negative: \",sorted(probability_true_predicted[0], key=probability_true_predicted[0].get, reverse=False)[0])\n",
    "print(\"2st most affect of presence to predict negative: \",sorted(probability_true_predicted[0], key=probability_true_predicted[0].get, reverse=False)[1])\n",
    "print(\"3st most affect of presence to predict negative: \",sorted(probability_true_predicted[0], key=probability_true_predicted[0].get, reverse=False)[2])\n",
    "print(\"4st most affect of presence to predict negative: \",sorted(probability_true_predicted[0], key=probability_true_predicted[0].get, reverse=False)[3])\n",
    "print(\"5st most affect of presence to predict negative: \",sorted(probability_true_predicted[0], key=probability_true_predicted[0].get, reverse=False)[4])\n",
    "print(\"6st most affect of presence to predict negative: \",sorted(probability_true_predicted[0], key=probability_true_predicted[0].get, reverse=False)[5])\n",
    "print(\"7st most affect of presence to predict negative: \",sorted(probability_true_predicted[0], key=probability_true_predicted[0].get, reverse=False)[6])\n",
    "print(\"8st most affect of presence to predict negative: \",sorted(probability_true_predicted[0], key=probability_true_predicted[0].get, reverse=False)[7])\n",
    "print(\"9st most affect of presence to predict negative: \",sorted(probability_true_predicted[0], key=probability_true_predicted[0].get, reverse=False)[8])\n",
    "print(\"10st most affect of presence to predict negative: \",sorted(probability_true_predicted[0], key=probability_true_predicted[0].get, reverse=False)[9])\n"
   ]
  },
  {
   "cell_type": "markdown",
   "metadata": {},
   "source": [
    "If we look at the first 10 words whose absence most strongly predicts that the review is negative, these are **great, and, easy, love, best, is, excellent, use, as**, and **well**."
   ]
  },
  {
   "cell_type": "code",
   "execution_count": 38,
   "metadata": {},
   "outputs": [
    {
     "name": "stdout",
     "output_type": "stream",
     "text": [
      "1st most affect of presence to predict negative:  great\n",
      "2st most affect of presence to predict negative:  and\n",
      "3st most affect of presence to predict negative:  easy\n",
      "4st most affect of presence to predict negative:  love\n",
      "5st most affect of presence to predict negative:  best\n",
      "6st most affect of presence to predict negative:  is\n",
      "7st most affect of presence to predict negative:  excellent\n",
      "8st most affect of presence to predict negative:  use\n",
      "9st most affect of presence to predict negative:  as\n",
      "10st most affect of presence to predict negative:  well\n"
     ]
    }
   ],
   "source": [
    "print(\"1st most affect of presence to predict negative: \",sorted(probability_true_predicted[0], key=probability_true_predicted[0].get, reverse=True)[0])\n",
    "print(\"2st most affect of presence to predict negative: \",sorted(probability_true_predicted[0], key=probability_true_predicted[0].get, reverse=True)[1])\n",
    "print(\"3st most affect of presence to predict negative: \",sorted(probability_true_predicted[0], key=probability_true_predicted[0].get, reverse=True)[2])\n",
    "print(\"4st most affect of presence to predict negative: \",sorted(probability_true_predicted[0], key=probability_true_predicted[0].get, reverse=True)[3])\n",
    "print(\"5st most affect of presence to predict negative: \",sorted(probability_true_predicted[0], key=probability_true_predicted[0].get, reverse=True)[4])\n",
    "print(\"6st most affect of presence to predict negative: \",sorted(probability_true_predicted[0], key=probability_true_predicted[0].get, reverse=True)[5])\n",
    "print(\"7st most affect of presence to predict negative: \",sorted(probability_true_predicted[0], key=probability_true_predicted[0].get, reverse=True)[6])\n",
    "print(\"8st most affect of presence to predict negative: \",sorted(probability_true_predicted[0], key=probability_true_predicted[0].get, reverse=True)[7])\n",
    "print(\"9st most affect of presence to predict negative: \",sorted(probability_true_predicted[0], key=probability_true_predicted[0].get, reverse=True)[8])\n",
    "print(\"10st most affect of presence to predict negative: \",sorted(probability_true_predicted[0], key=probability_true_predicted[0].get, reverse=True)[9])\n"
   ]
  },
  {
   "cell_type": "code",
   "execution_count": null,
   "metadata": {},
   "outputs": [],
   "source": []
  },
  {
   "cell_type": "markdown",
   "metadata": {},
   "source": [
    "### (b) Stopwords"
   ]
  },
  {
   "cell_type": "markdown",
   "metadata": {},
   "source": [
    "I chose the **Unigram & TF-IDF without stop words** model to analyze effects of the words on prediction. If we look at the first 10 words whose presence most strongly predicts that the review is positive, these are **great, easy, love, best, excellent, use, highly, lens, price**, and **wonderful**"
   ]
  },
  {
   "cell_type": "code",
   "execution_count": 39,
   "metadata": {},
   "outputs": [],
   "source": [
    "probability_true_predicted = model_unigram_stop_words_tfidf.get_word_probability_differences()"
   ]
  },
  {
   "cell_type": "code",
   "execution_count": 40,
   "metadata": {},
   "outputs": [
    {
     "name": "stdout",
     "output_type": "stream",
     "text": [
      "1st most affect of presence to predict positive:  great\n",
      "2st most affect of presence to predict positive:  easy\n",
      "3st most affect of presence to predict positive:  love\n",
      "4st most affect of presence to predict positive:  best\n",
      "5st most affect of presence to predict positive:  excellent\n",
      "6st most affect of presence to predict positive:  use\n",
      "7st most affect of presence to predict positive:  highly\n",
      "8st most affect of presence to predict positive:  lens\n",
      "9st most affect of presence to predict positive:  price\n",
      "10st most affect of presence to predict positive:  wonderful\n"
     ]
    }
   ],
   "source": [
    "print(\"1st most affect of presence to predict positive: \",sorted(probability_true_predicted[1], key=probability_true_predicted[1].get, reverse=False)[0])\n",
    "print(\"2st most affect of presence to predict positive: \",sorted(probability_true_predicted[1], key=probability_true_predicted[1].get, reverse=False)[1])\n",
    "print(\"3st most affect of presence to predict positive: \",sorted(probability_true_predicted[1], key=probability_true_predicted[1].get, reverse=False)[2])\n",
    "print(\"4st most affect of presence to predict positive: \",sorted(probability_true_predicted[1], key=probability_true_predicted[1].get, reverse=False)[3])\n",
    "print(\"5st most affect of presence to predict positive: \",sorted(probability_true_predicted[1], key=probability_true_predicted[1].get, reverse=False)[4])\n",
    "print(\"6st most affect of presence to predict positive: \",sorted(probability_true_predicted[1], key=probability_true_predicted[1].get, reverse=False)[5])\n",
    "print(\"7st most affect of presence to predict positive: \",sorted(probability_true_predicted[1], key=probability_true_predicted[1].get, reverse=False)[6])\n",
    "print(\"8st most affect of presence to predict positive: \",sorted(probability_true_predicted[1], key=probability_true_predicted[1].get, reverse=False)[7])\n",
    "print(\"9st most affect of presence to predict positive: \",sorted(probability_true_predicted[1], key=probability_true_predicted[1].get, reverse=False)[8])\n",
    "print(\"10st most affect of presence to predict positive: \",sorted(probability_true_predicted[1], key=probability_true_predicted[1].get, reverse=False)[9])\n"
   ]
  },
  {
   "cell_type": "markdown",
   "metadata": {},
   "source": [
    "We can see the first 10 words whose presence most strongly predicts that the review\n",
    "is negative which are **money, waste, did, bad, worst, support, boring, disappointed, poor, return**."
   ]
  },
  {
   "cell_type": "code",
   "execution_count": 41,
   "metadata": {},
   "outputs": [
    {
     "name": "stdout",
     "output_type": "stream",
     "text": [
      "1st most affect of presence to predict positive:  money\n",
      "2st most affect of presence to predict positive:  waste\n",
      "3st most affect of presence to predict positive:  did\n",
      "4st most affect of presence to predict positive:  bad\n",
      "5st most affect of presence to predict positive:  worst\n",
      "6st most affect of presence to predict positive:  support\n",
      "7st most affect of presence to predict positive:  boring\n",
      "8st most affect of presence to predict positive:  disappointed\n",
      "9st most affect of presence to predict positive:  poor\n",
      "10st most affect of presence to predict positive:  return\n"
     ]
    }
   ],
   "source": [
    "print(\"1st most affect of presence to predict positive: \",sorted(probability_true_predicted[0], key=probability_true_predicted[0].get, reverse=False)[0])\n",
    "print(\"2st most affect of presence to predict positive: \",sorted(probability_true_predicted[0], key=probability_true_predicted[0].get, reverse=False)[1])\n",
    "print(\"3st most affect of presence to predict positive: \",sorted(probability_true_predicted[0], key=probability_true_predicted[0].get, reverse=False)[2])\n",
    "print(\"4st most affect of presence to predict positive: \",sorted(probability_true_predicted[0], key=probability_true_predicted[0].get, reverse=False)[3])\n",
    "print(\"5st most affect of presence to predict positive: \",sorted(probability_true_predicted[0], key=probability_true_predicted[0].get, reverse=False)[4])\n",
    "print(\"6st most affect of presence to predict positive: \",sorted(probability_true_predicted[0], key=probability_true_predicted[0].get, reverse=False)[5])\n",
    "print(\"7st most affect of presence to predict positive: \",sorted(probability_true_predicted[0], key=probability_true_predicted[0].get, reverse=False)[6])\n",
    "print(\"8st most affect of presence to predict positive: \",sorted(probability_true_predicted[0], key=probability_true_predicted[0].get, reverse=False)[7])\n",
    "print(\"9st most affect of presence to predict positive: \",sorted(probability_true_predicted[0], key=probability_true_predicted[0].get, reverse=False)[8])\n",
    "print(\"10st most affect of presence to predict positive: \",sorted(probability_true_predicted[0], key=probability_true_predicted[0].get, reverse=False)[9])\n"
   ]
  },
  {
   "cell_type": "markdown",
   "metadata": {},
   "source": [
    "### (c) Analyzing effect of the stopwords"
   ]
  },
  {
   "cell_type": "markdown",
   "metadata": {},
   "source": [
    "The stop words make the model more accured, and it make sense to keep the stop words. For instance, if we look at the part 3(a) words whose presence most strongly predicts that the review is negative like **not** and **no**, these are actually mostly occured in negative comments, because these words makes the verbs negative. This occurence increse the likelihood term of the naive bayes while the calculated words are in negative.\n"
   ]
  },
  {
   "cell_type": "code",
   "execution_count": null,
   "metadata": {},
   "outputs": [],
   "source": []
  },
  {
   "cell_type": "code",
   "execution_count": null,
   "metadata": {},
   "outputs": [],
   "source": []
  },
  {
   "cell_type": "code",
   "execution_count": null,
   "metadata": {},
   "outputs": [],
   "source": []
  }
 ],
 "metadata": {
  "kernelspec": {
   "display_name": "Python 3",
   "language": "python",
   "name": "python3"
  },
  "language_info": {
   "codemirror_mode": {
    "name": "ipython",
    "version": 3
   },
   "file_extension": ".py",
   "mimetype": "text/x-python",
   "name": "python",
   "nbconvert_exporter": "python",
   "pygments_lexer": "ipython3",
   "version": "3.8.5"
  }
 },
 "nbformat": 4,
 "nbformat_minor": 4
}
